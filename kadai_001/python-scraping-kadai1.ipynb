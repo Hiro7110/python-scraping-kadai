url = "https://news.yahoo.co.jp/articles/eb930a36b6cbd17ca7b747ac9625534e3f5ef637"

response = requests.get(url)

soup = BeautifulSoup(response.text, "html.parser")

title_element = soup.select_one("#uamods > div > div > p")

title_text = title_element.text

print (title_text)
